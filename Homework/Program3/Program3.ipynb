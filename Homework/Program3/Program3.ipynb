{
 "cells": [
  {
   "cell_type": "code",
   "execution_count": 1,
   "id": "14fcbf5b",
   "metadata": {},
   "outputs": [],
   "source": [
    "import numpy as np\n",
    "import pandas as pd"
   ]
  },
  {
   "cell_type": "code",
   "execution_count": 2,
   "id": "cd3385e9",
   "metadata": {},
   "outputs": [
    {
     "data": {
      "text/html": [
       "<div>\n",
       "<style scoped>\n",
       "    .dataframe tbody tr th:only-of-type {\n",
       "        vertical-align: middle;\n",
       "    }\n",
       "\n",
       "    .dataframe tbody tr th {\n",
       "        vertical-align: top;\n",
       "    }\n",
       "\n",
       "    .dataframe thead th {\n",
       "        text-align: right;\n",
       "    }\n",
       "</style>\n",
       "<table border=\"1\" class=\"dataframe\">\n",
       "  <thead>\n",
       "    <tr style=\"text-align: right;\">\n",
       "      <th></th>\n",
       "      <th>0</th>\n",
       "    </tr>\n",
       "  </thead>\n",
       "  <tbody>\n",
       "    <tr>\n",
       "      <th>0</th>\n",
       "      <td>13273 1 557 1 478 1 957 1 1230 1 53 2 55 1 91 ...</td>\n",
       "    </tr>\n",
       "    <tr>\n",
       "      <th>1</th>\n",
       "      <td>196 1 8699 4 47134 1 958 1 976 2 13459 1 3331 ...</td>\n",
       "    </tr>\n",
       "    <tr>\n",
       "      <th>2</th>\n",
       "      <td>619 1 556 1 973 1 14187 1 877 1 1414 2 3171 1 ...</td>\n",
       "    </tr>\n",
       "    <tr>\n",
       "      <th>3</th>\n",
       "      <td>556 2 14247 2 11 1 32069 1 14528 1 678 2 597 1...</td>\n",
       "    </tr>\n",
       "    <tr>\n",
       "      <th>4</th>\n",
       "      <td>17071 5 10682 4 596 1 678 3 52 3 53 1 55 2 341...</td>\n",
       "    </tr>\n",
       "  </tbody>\n",
       "</table>\n",
       "</div>"
      ],
      "text/plain": [
       "                                                   0\n",
       "0  13273 1 557 1 478 1 957 1 1230 1 53 2 55 1 91 ...\n",
       "1  196 1 8699 4 47134 1 958 1 976 2 13459 1 3331 ...\n",
       "2  619 1 556 1 973 1 14187 1 877 1 1414 2 3171 1 ...\n",
       "3  556 2 14247 2 11 1 32069 1 14528 1 678 2 597 1...\n",
       "4  17071 5 10682 4 596 1 678 3 52 3 53 1 55 2 341..."
      ]
     },
     "execution_count": 2,
     "metadata": {},
     "output_type": "execute_result"
    }
   ],
   "source": [
    "data = pd.read_csv('train.dat', header = None)\n",
    "\n",
    "data.head()"
   ]
  },
  {
   "cell_type": "code",
   "execution_count": 3,
   "id": "6c441de3",
   "metadata": {},
   "outputs": [],
   "source": [
    "from scipy.sparse import csr_matrix\n",
    "\n",
    "# number of rows\n",
    "nrows = len(data)\n",
    "# number of columns\n",
    "ncols = 0\n",
    "# number of nonzeroes\n",
    "nnz = 0\n",
    "\n",
    "for row in data[0]:\n",
    "    temp_row = row.split()[::2]\n",
    "    nnz += len(row)/2\n",
    "    for word in temp_row:\n",
    "        colid = int(word) - 1\n",
    "        if (colid + 1 > ncols):\n",
    "            ncols = colid + 1\n",
    "\n",
    "dat = np.zeros(int(nnz), dtype = int)\n",
    "cols = np.zeros(int(nnz), dtype = int)\n",
    "index_ptr = np.zeros(nrows + 1, dtype = int)\n",
    "n = 0\n",
    "\n",
    "for i in range(nrows):\n",
    "    line = data[0][i].split()\n",
    "    for j in range(0, len(line), 2):\n",
    "        cols[n] = int(line[j]) - 1\n",
    "        dat[n] = int(line[j+1])\n",
    "        n = n+1\n",
    "    index_ptr[i+1] = n\n",
    "\n",
    "traindata = csr_matrix((dat, cols, index_ptr), shape = (nrows, ncols), dtype = int)"
   ]
  },
  {
   "cell_type": "code",
   "execution_count": 4,
   "id": "72ccf398",
   "metadata": {},
   "outputs": [
    {
     "name": "stdout",
     "output_type": "stream",
     "text": [
      "0.8211680165269843\n"
     ]
    }
   ],
   "source": [
    "from sklearn.decomposition import TruncatedSVD\n",
    "\n",
    "tsvd = TruncatedSVD(n_components = 725)\n",
    "traindata = tsvd.fit(traindata).transform(traindata)\n",
    "\n",
    "print(tsvd.explained_variance_ratio_.sum())"
   ]
  },
  {
   "cell_type": "code",
   "execution_count": 5,
   "id": "b5f7301d",
   "metadata": {},
   "outputs": [],
   "source": [
    "from sklearn.cluster import KMeans\n",
    "kmeansclusters = KMeans(n_clusters = 101, random_state = 0).fit(traindata)\n",
    "\n",
    "centers = kmeansclusters.cluster_centers_"
   ]
  },
  {
   "cell_type": "code",
   "execution_count": 6,
   "id": "7451edf2",
   "metadata": {},
   "outputs": [],
   "source": [
    "from scipy.spatial import distance\n",
    "\n",
    "def close_points(data, pt, eps):\n",
    "    points = []\n",
    "    indicies = []\n",
    "    for i in range(len(data)):\n",
    "        if (distance.cosine(data[i], pt) <= eps and distance.cosine(data[i], pt) != 0):\n",
    "            points.append(data[i])\n",
    "            indicies.append(i)\n",
    "    return points, indicies"
   ]
  },
  {
   "cell_type": "code",
   "execution_count": 7,
   "id": "fde2e5e1",
   "metadata": {},
   "outputs": [],
   "source": [
    "def dbscan(eps, minpts, centers):\n",
    "    class_labels = [0] * len(centers)\n",
    "    allNeighbors = [0] * len(centers)\n",
    "    corepts = []\n",
    "    otherpts = []\n",
    "\n",
    "    for i in range(len(centers)):\n",
    "        p = centers[i]\n",
    "\n",
    "        neighbors, idxs = close_points(centers, p, eps)\n",
    "        # check if # of points is more than minpts to make it a core point\n",
    "        if len(neighbors) > minpts:\n",
    "            corepts.append((p, neighbors))\n",
    "            class_labels[i] = 1\n",
    "            allNeighbors[i] = idxs\n",
    "        else:\n",
    "            class_labels[i] = 2\n",
    "            allNeighbors[i] = idxs\n",
    "            otherpts.append((p, neighbors))\n",
    "\n",
    "    # go through all points again to classify border and noise points\n",
    "    # if a point x is not a core point but a point within eps of x is a core point, x is a border point\n",
    "\n",
    "    #this code below is mostly useless and only useful for assignment of noise points later\n",
    "\n",
    "    borderpts = []\n",
    "    noisepts = []\n",
    "    v = -1\n",
    "    for j in range(len(class_labels)):\n",
    "        if class_labels[j] == 2:\n",
    "            v += 1\n",
    "            neighs = otherpts[v][1]\n",
    "            borderFound = False\n",
    "            for k in [x[0] for x in corepts]:\n",
    "                # for each core point, check whether that core point is within neighs\n",
    "                for nei in neighs:\n",
    "                    # for each neighbor, check if equal to the core point being looked for\n",
    "                    if (np.array_equal(k, nei) and not borderFound):\n",
    "                        # tuple is the border point and the core point it borders\n",
    "                        borderpts.append((otherpts[v][0], k))\n",
    "                        borderFound = True\n",
    "            \n",
    "            if(not borderFound):\n",
    "                noisepts.append(otherpts[v][0])\n",
    "                class_labels[j] = 0\n",
    "\n",
    "    return class_labels, allNeighbors"
   ]
  },
  {
   "cell_type": "code",
   "execution_count": 8,
   "id": "edaccdeb",
   "metadata": {},
   "outputs": [],
   "source": [
    "from random import seed\n",
    "from random import randint\n",
    "\n",
    "def create_clusters(classLabels, allNeighbors, centers):\n",
    "    clusterLabels = [0] * len(centers)\n",
    "    count = 1\n",
    "    seed(1)\n",
    "    for i in range(len(centers)):\n",
    "        # check if point is already in a cluster\n",
    "        pt = centers[i]\n",
    "        \n",
    "        if(clusterLabels[i] != 0):\n",
    "            # find the cluster it is in\n",
    "            c = clusterLabels[i]\n",
    "        else:\n",
    "            # create a new cluster\n",
    "            if classLabels[i] == 0:\n",
    "                clusterLabels[i] = randint(1, count)\n",
    "            else:\n",
    "                c = count\n",
    "                clusterLabels[i] = c\n",
    "                for w in allNeighbors[i]:\n",
    "                    clusterLabels[w] = c\n",
    "                count += 1\n",
    "            # for each neighbor, add to cluster c\n",
    "    print(\"# clusters: \" + str(count - 1))\n",
    "    return clusterLabels"
   ]
  },
  {
   "cell_type": "code",
   "execution_count": 9,
   "id": "b590a99b",
   "metadata": {},
   "outputs": [],
   "source": [
    "# for each of the points, find out which kmeans cluster is it the centroid of\n",
    "# make an array with the cluster assignments and then print to output\n",
    "def assign_final_clusters(clusterLabels):\n",
    "    finalClusters = [None] * traindata.shape[0]\n",
    "\n",
    "    # centers[0] is the center of all the vectors in the 0th cluster (there are clusters 0 - 100)\n",
    "    for i in range(len(centers)):\n",
    "        for j in range(len(kmeansclusters.labels_)):\n",
    "            if kmeansclusters.labels_[j] == i:\n",
    "                finalClusters[j] = clusterLabels[i]\n",
    "    return finalClusters"
   ]
  },
  {
   "cell_type": "code",
   "execution_count": 10,
   "id": "a7e6d9f5",
   "metadata": {},
   "outputs": [],
   "source": [
    "from sklearn.metrics import calinski_harabasz_score\n",
    "\n",
    "def get_score(traindata, finalClusters):\n",
    "    return calinski_harabasz_score(traindata, finalClusters)"
   ]
  },
  {
   "cell_type": "code",
   "execution_count": 14,
   "id": "c68bec1d",
   "metadata": {},
   "outputs": [
    {
     "name": "stdout",
     "output_type": "stream",
     "text": [
      "# clusters: 15\n",
      "eps: 0.48 minpts: 3 score: 92.27549551969985\n",
      "# clusters: 14\n",
      "eps: 0.48 minpts: 5 score: 96.02306016959542\n",
      "# clusters: 14\n",
      "eps: 0.48 minpts: 7 score: 96.02306016959542\n",
      "# clusters: 13\n",
      "eps: 0.48 minpts: 9 score: 90.00001169873896\n",
      "# clusters: 11\n",
      "eps: 0.48 minpts: 11 score: 88.06213640897576\n",
      "# clusters: 9\n",
      "eps: 0.48 minpts: 13 score: 98.10011761107775\n",
      "# clusters: 9\n",
      "eps: 0.48 minpts: 15 score: 98.10011761107775\n",
      "# clusters: 10\n",
      "eps: 0.48 minpts: 17 score: 84.78629671271152\n",
      "# clusters: 9\n",
      "eps: 0.48 minpts: 19 score: 98.96102010167253\n",
      "# clusters: 9\n",
      "eps: 0.48 minpts: 21 score: 98.96102010167253\n",
      "# clusters: 7\n",
      "eps: 0.48 minpts: 23 score: 102.22600652557232\n",
      "# clusters: 7\n",
      "eps: 0.48 minpts: 25 score: 102.22600652557232\n"
     ]
    },
    {
     "data": {
      "image/png": "[encoded data removed]",
      "text/plain": [
       "<Figure size 432x288 with 1 Axes>"
      ]
     },
     "metadata": {
      "needs_background": "light"
     },
     "output_type": "display_data"
    }
   ],
   "source": [
    "import matplotlib.pyplot as plt\n",
    "\n",
    "scores = []\n",
    "for m in range(3, 27, 2):\n",
    "    eps = .48\n",
    "    classLabels, allNeighbors = dbscan(eps, m, centers)\n",
    "    clusterLabels = create_clusters(classLabels, allNeighbors, centers)\n",
    "    final_clusters = assign_final_clusters(clusterLabels)\n",
    "    score = get_score(traindata, final_clusters)\n",
    "    scores.append(score)\n",
    "    print(\"eps: \" + str(eps) + \" minpts: \" + str(m) + \" score: \" + str(score))\n",
    "\n",
    "plt.plot(scores)\n",
    "plt.show()"
   ]
  },
  {
   "cell_type": "code",
   "execution_count": 13,
   "id": "919ad1e8",
   "metadata": {},
   "outputs": [],
   "source": [
    "test_predictions_file = open('output2.txt', 'w+')\n",
    "pd.Series(final_clusters).to_csv(\"output2.txt\", index = False, header = None)\n",
    "test_predictions_file.close()"
   ]
  },
  {
   "cell_type": "code",
   "execution_count": null,
   "id": "3abe263b",
   "metadata": {},
   "outputs": [],
   "source": []
  }
 ],
 "metadata": {
  "kernelspec": {
   "display_name": "Python 3 (ipykernel)",
   "language": "python",
   "name": "python3"
  },
  "language_info": {
   "codemirror_mode": {
    "name": "ipython",
    "version": 3
   },
   "file_extension": ".py",
   "mimetype": "text/x-python",
   "name": "python",
   "nbconvert_exporter": "python",
   "pygments_lexer": "ipython3",
   "version": "3.9.7"
  }
 },
 "nbformat": 4,
 "nbformat_minor": 5
}
