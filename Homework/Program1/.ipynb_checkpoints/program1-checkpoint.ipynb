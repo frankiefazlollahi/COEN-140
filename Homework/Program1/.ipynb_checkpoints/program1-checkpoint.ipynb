{
 "cells": [
  {
   "cell_type": "code",
   "execution_count": 1,
   "id": "18127a7f",
   "metadata": {},
   "outputs": [],
   "source": [
    "import numpy as np\n",
    "import pandas as pd\n",
    "import scipy as sp\n",
    "import matplotlib.pyplot as plt\n",
    "from collections import defaultdict"
   ]
  },
  {
   "cell_type": "code",
   "execution_count": null,
   "id": "e9f62498",
   "metadata": {},
   "outputs": [],
   "source": [
    "with open('train.dat', 'r') as f:\n",
    "    lines = f.readlines()\n",
    "#print(lines[0])"
   ]
  },
  {
   "cell_type": "code",
   "execution_count": null,
   "id": "8162ab41",
   "metadata": {},
   "outputs": [],
   "source": [
    "classes = []\n",
    "for line in lines:\n",
    "    classes.append(line[:1])\n",
    "#print(classes[0])"
   ]
  },
  {
   "cell_type": "code",
   "execution_count": null,
   "id": "7e007e56",
   "metadata": {},
   "outputs": [],
   "source": [
    "docs = []\n",
    "for line in lines:\n",
    "    docs.append(line[2:])\n",
    "#print(docs[0])"
   ]
  },
  {
   "cell_type": "code",
   "execution_count": null,
   "id": "c41cc727",
   "metadata": {},
   "outputs": [],
   "source": [
    "with open('test.dat', 'r') as file:\n",
    "    lines2 = file.readlines()\n",
    "for l in lines2:\n",
    "    docs.append(l)"
   ]
  },
  {
   "cell_type": "code",
   "execution_count": null,
   "id": "56b8e3db",
   "metadata": {},
   "outputs": [],
   "source": [
    "for i in range(len(docs)):\n",
    "    docs[i] = docs[i].lower()"
   ]
  },
  {
   "cell_type": "code",
   "execution_count": null,
   "id": "3d959375",
   "metadata": {},
   "outputs": [],
   "source": [
    "dictionary = {}\n",
    "word_ID = 0\n",
    "for d in docs:\n",
    "    words = d.split()\n",
    "    for word in words:\n",
    "        if word not in docs:\n",
    "            dictionary[word] = word_ID\n",
    "            word_ID = word_ID + 1\n",
    "    words.clear()"
   ]
  },
  {
   "cell_type": "code",
   "execution_count": null,
   "id": "da0d1eb5",
   "metadata": {},
   "outputs": [],
   "source": []
  },
  {
   "cell_type": "code",
   "execution_count": null,
   "id": "0b53c942",
   "metadata": {},
   "outputs": [],
   "source": []
  },
  {
   "cell_type": "code",
   "execution_count": null,
   "id": "f6cce842",
   "metadata": {},
   "outputs": [],
   "source": []
  },
  {
   "cell_type": "code",
   "execution_count": null,
   "id": "48da2174",
   "metadata": {},
   "outputs": [],
   "source": []
  }
 ],
 "metadata": {
  "kernelspec": {
   "display_name": "Python 3 (ipykernel)",
   "language": "python",
   "name": "python3"
  },
  "language_info": {
   "codemirror_mode": {
    "name": "ipython",
    "version": 3
   },
   "file_extension": ".py",
   "mimetype": "text/x-python",
   "name": "python",
   "nbconvert_exporter": "python",
   "pygments_lexer": "ipython3",
   "version": "3.9.7"
  }
 },
 "nbformat": 4,
 "nbformat_minor": 5
}
