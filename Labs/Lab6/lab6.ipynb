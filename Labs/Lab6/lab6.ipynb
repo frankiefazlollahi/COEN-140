{
 "cells": [
  {
   "cell_type": "code",
   "execution_count": 1,
   "id": "127570a2",
   "metadata": {},
   "outputs": [],
   "source": [
    "import numpy as np\n",
    "import pandas as pd"
   ]
  },
  {
   "cell_type": "code",
   "execution_count": 2,
   "id": "ca5e1915",
   "metadata": {},
   "outputs": [
    {
     "name": "stdout",
     "output_type": "stream",
     "text": [
      "(150, 5)\n",
      "   Sepal Length  Sepal Width  Petal Length  Petal Width        Label\n",
      "0           5.1          3.5           1.4          0.2  Iris-setosa\n",
      "1           4.9          3.0           1.4          0.2  Iris-setosa\n",
      "2           4.7          3.2           1.3          0.2  Iris-setosa\n",
      "3           4.6          3.1           1.5          0.2  Iris-setosa\n",
      "4           5.0          3.6           1.4          0.2  Iris-setosa\n"
     ]
    }
   ],
   "source": [
    "data = pd.read_csv('iris.data.txt', header = None)\n",
    "data.columns = ['Sepal Length', 'Sepal Width', 'Petal Length', 'Petal Width', 'Label']\n",
    "print(data.shape)\n",
    "print(data.head())"
   ]
  },
  {
   "cell_type": "code",
   "execution_count": 3,
   "id": "3880f165",
   "metadata": {},
   "outputs": [
    {
     "name": "stdout",
     "output_type": "stream",
     "text": [
      "(150, 4)\n",
      "(150, 1)\n"
     ]
    }
   ],
   "source": [
    "X = data[['Sepal Length', 'Sepal Width', 'Petal Length', 'Petal Width']]\n",
    "print(X.shape)\n",
    "y = data[['Label']]\n",
    "print(y.shape)"
   ]
  },
  {
   "cell_type": "code",
   "execution_count": 4,
   "id": "6436398d",
   "metadata": {},
   "outputs": [
    {
     "name": "stdout",
     "output_type": "stream",
     "text": [
      "(120, 4)\n",
      "(30, 4)\n",
      "(120, 1)\n",
      "(30, 1)\n"
     ]
    }
   ],
   "source": [
    "from sklearn.model_selection import train_test_split\n",
    "\n",
    "X_train, X_test, y_train, y_test = train_test_split(X, y, test_size = 0.2)\n",
    "print(X_train.shape)\n",
    "print(X_test.shape)\n",
    "print(y_train.shape)\n",
    "print(y_test.shape)"
   ]
  },
  {
   "cell_type": "code",
   "execution_count": 5,
   "id": "495e837f",
   "metadata": {},
   "outputs": [
    {
     "data": {
      "text/plain": [
       "SVC(C=1, gamma='auto', kernel='linear')"
      ]
     },
     "execution_count": 5,
     "metadata": {},
     "output_type": "execute_result"
    }
   ],
   "source": [
    "from sklearn.svm import SVC\n",
    "\n",
    "model_1 = SVC(C = 1, kernel = 'linear', gamma = 'auto')\n",
    "model_1.fit(X_train, np.squeeze(y_train))\n",
    "\n",
    "#print(model_1.score(X_train, np.squeeze(y_train)))"
   ]
  },
  {
   "cell_type": "code",
   "execution_count": 6,
   "id": "deda630c",
   "metadata": {},
   "outputs": [
    {
     "name": "stdout",
     "output_type": "stream",
     "text": [
      "SVM with C = 1 Accuracy:  1.0\n"
     ]
    }
   ],
   "source": [
    "y_predict_1 = model_1.predict(X_test)\n",
    "\n",
    "print(\"SVM with C = 1 Accuracy: \", model_1.score(X_test, np.squeeze(y_test)))"
   ]
  },
  {
   "cell_type": "code",
   "execution_count": 7,
   "id": "47f5a270",
   "metadata": {},
   "outputs": [
    {
     "name": "stdout",
     "output_type": "stream",
     "text": [
      "SVM with C = 100 Accuracy:  1.0\n"
     ]
    }
   ],
   "source": [
    "model_2 = SVC(C = 100, kernel = 'linear', gamma = 'auto')\n",
    "model_2.fit(X_train, np.squeeze(y_train))\n",
    "\n",
    "y_predict_2 = model_2.predict(X_test)\n",
    "\n",
    "print(\"SVM with C = 100 Accuracy: \", model_2.score(X_test, np.squeeze(y_test)))"
   ]
  },
  {
   "cell_type": "markdown",
   "id": "eccb8026",
   "metadata": {},
   "source": [
    "**Plotting Classification Model for C=1 & C=100 (using first 2 features only)**"
   ]
  },
  {
   "cell_type": "code",
   "execution_count": 9,
   "id": "44debcf9",
   "metadata": {},
   "outputs": [
    {
     "name": "stdout",
     "output_type": "stream",
     "text": [
      "(150, 2)\n",
      "(150, 1)\n"
     ]
    }
   ],
   "source": [
    "X = data[['Sepal Length', 'Sepal Width']]\n",
    "print(X.shape)\n",
    "y = data[['Label']]\n",
    "print(y.shape)"
   ]
  },
  {
   "cell_type": "code",
   "execution_count": 10,
   "id": "7a4f5f57",
   "metadata": {},
   "outputs": [],
   "source": [
    "X_train, X_test, y_train, y_test = train_test_split(X, y, test_size = 0.2)"
   ]
  },
  {
   "cell_type": "code",
   "execution_count": 11,
   "id": "5eddd70f",
   "metadata": {},
   "outputs": [
    {
     "name": "stdout",
     "output_type": "stream",
     "text": [
      "SVM with C = 1 Accuracy:  0.8333333333333334\n"
     ]
    }
   ],
   "source": [
    "model_1 = SVC(C = 1, kernel = 'linear', gamma = 'auto')\n",
    "model_1.fit(X_train, np.squeeze(y_train))\n",
    "\n",
    "y_predict_1 = model_1.predict(X_test)\n",
    "\n",
    "print(\"SVM with C = 1 Accuracy: \", model_1.score(X_test, np.squeeze(y_test)))"
   ]
  },
  {
   "cell_type": "code",
   "execution_count": 12,
   "id": "b3175af1",
   "metadata": {},
   "outputs": [
    {
     "name": "stdout",
     "output_type": "stream",
     "text": [
      "SVM with C = 100 Accuracy:  0.8\n"
     ]
    }
   ],
   "source": [
    "model_2 = SVC(C = 100, kernel = 'linear', gamma = 'auto')\n",
    "model_2.fit(X_train, np.squeeze(y_train))\n",
    "\n",
    "y_predict_2 = model_2.predict(X_test)\n",
    "\n",
    "print(\"SVM with C = 100 Accuracy: \", model_2.score(X_test, np.squeeze(y_test)))"
   ]
  },
  {
   "cell_type": "code",
   "execution_count": 13,
   "id": "aef809b0",
   "metadata": {},
   "outputs": [
    {
     "data": {
      "image/png": "[encoded data removed]",
      "text/plain": [
       "<Figure size 432x288 with 2 Axes>"
      ]
     },
     "metadata": {},
     "output_type": "display_data"
    }
   ],
   "source": [
    "import matplotlib.pyplot as plt\n",
    "from sklearn import datasets\n",
    "\n",
    "\n",
    "def make_meshgrid(x, y, h=0.02):\n",
    "    \"\"\"Create a mesh of points to plot in\n",
    "\n",
    "    Parameters\n",
    "    ----------\n",
    "    x: data to base x-axis meshgrid on\n",
    "    y: data to base y-axis meshgrid on\n",
    "    h: stepsize for meshgrid, optional\n",
    "\n",
    "    Returns\n",
    "    -------\n",
    "    xx, yy : ndarray\n",
    "    \"\"\"\n",
    "    x_min, x_max = x.min() - 1, x.max() + 1\n",
    "    y_min, y_max = y.min() - 1, y.max() + 1\n",
    "    xx, yy = np.meshgrid(np.arange(x_min, x_max, h), np.arange(y_min, y_max, h))\n",
    "    return xx, yy\n",
    "\n",
    "\n",
    "def plot_contours(ax, clf, xx, yy, **params):\n",
    "    \"\"\"Plot the decision boundaries for a classifier.\n",
    "\n",
    "    Parameters\n",
    "    ----------\n",
    "    ax: matplotlib axes object\n",
    "    clf: a classifier\n",
    "    xx: meshgrid ndarray\n",
    "    yy: meshgrid ndarray\n",
    "    params: dictionary of params to pass to contourf, optional\n",
    "    \"\"\"\n",
    "    Z = clf.predict(np.c_[xx.ravel(), yy.ravel()])\n",
    "    Z = Z.reshape(xx.shape)\n",
    "    out = ax.contourf(xx, yy, Z, **params)\n",
    "    return out\n",
    "\n",
    "\n",
    "# import some data to play with\n",
    "iris = datasets.load_iris()\n",
    "# Take the first two features. We could avoid this by using a two-dim dataset\n",
    "X = iris.data[:, :2]\n",
    "y = iris.target\n",
    "\n",
    "# we create an instance of SVM and fit out data. We do not scale our\n",
    "# data since we want to plot the support vectors\n",
    "models = (\n",
    "    SVC(C = 1.0, kernel = 'linear', gamma = 'auto'),\n",
    "    SVC(C = 100, kernel = 'linear', gamma = 'auto'),\n",
    ")\n",
    "models = (clf.fit(X, y) for clf in models)\n",
    "\n",
    "# title for the plots\n",
    "titles = (\n",
    "    \"SVM with C = 1\",\n",
    "    \"SVM with C = 100\",\n",
    ")\n",
    "\n",
    "# Set-up 2x2 grid for plotting.\n",
    "fig, sub = plt.subplots(1, 2)\n",
    "plt.subplots_adjust(wspace=0.4, hspace=0.4)\n",
    "\n",
    "X0, X1 = X[:, 0], X[:, 1]\n",
    "xx, yy = make_meshgrid(X0, X1)\n",
    "\n",
    "for clf, title, ax in zip(models, titles, sub.flatten()):\n",
    "    plot_contours(ax, clf, xx, yy, cmap=plt.cm.coolwarm, alpha=0.8)\n",
    "    ax.scatter(X0, X1, c=y, cmap=plt.cm.coolwarm, s=20, edgecolors=\"k\")\n",
    "    ax.set_xlim(xx.min(), xx.max())\n",
    "    ax.set_ylim(yy.min(), yy.max())\n",
    "    ax.set_xlabel(\"Sepal length\")\n",
    "    ax.set_ylabel(\"Sepal width\")\n",
    "    ax.set_xticks(())\n",
    "    ax.set_yticks(())\n",
    "    ax.set_title(title)\n",
    "\n",
    "plt.show()"
   ]
  },
  {
   "cell_type": "code",
   "execution_count": null,
   "id": "c3236cd1",
   "metadata": {},
   "outputs": [],
   "source": []
  }
 ],
 "metadata": {
  "kernelspec": {
   "display_name": "Python 3 (ipykernel)",
   "language": "python",
   "name": "python3"
  },
  "language_info": {
   "codemirror_mode": {
    "name": "ipython",
    "version": 3
   },
   "file_extension": ".py",
   "mimetype": "text/x-python",
   "name": "python",
   "nbconvert_exporter": "python",
   "pygments_lexer": "ipython3",
   "version": "3.9.7"
  }
 },
 "nbformat": 4,
 "nbformat_minor": 5
}
