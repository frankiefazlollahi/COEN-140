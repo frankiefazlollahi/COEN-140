{
 "cells": [
  {
   "cell_type": "markdown",
   "metadata": {
    "id": "IKR_6WM6H0MU"
   },
   "source": [
    "# Load Libraries\n",
    "### *If you need other libraries, you can add by yourself* ###"
   ]
  },
  {
   "cell_type": "code",
   "execution_count": 1,
   "metadata": {
    "id": "MG5MC-m4uQYf"
   },
   "outputs": [],
   "source": [
    "import numpy as np\n",
    "import matplotlib.pyplot as plt\n",
    "from sklearn.datasets import fetch_openml\n",
    "from sklearn.cluster import KMeans\n",
    "from sklearn.metrics import homogeneity_score\n",
    "from sklearn.metrics import accuracy_score"
   ]
  },
  {
   "cell_type": "markdown",
   "metadata": {
    "id": "cnRXvyyNIRHn"
   },
   "source": [
    "# Load DataSets\n",
    "## Since the dataset is quite large, restrict yourself to the first 2000 images as raw data, and then split it into training and testing datasets via ratio 8:2.（The raw data should be a 2000 × 784 matrix，check the shape after you get the dataset and split）"
   ]
  },
  {
   "cell_type": "code",
   "execution_count": 3,
   "metadata": {
    "id": "zvtFLXA1w8QX"
   },
   "outputs": [
    {
     "name": "stdout",
     "output_type": "stream",
     "text": [
      "(2000, 784)\n",
      "(2000,)\n"
     ]
    }
   ],
   "source": [
    "mnist = fetch_openml('mnist_784', version=1)\n",
    "X, Y = mnist[\"data\"], mnist[\"target\"]\n",
    "\n",
    "#code here\n",
    "X = X[:2000]\n",
    "Y = Y[:2000]\n",
    "print(X.shape)\n",
    "print(Y.shape)"
   ]
  },
  {
   "cell_type": "code",
   "execution_count": 4,
   "metadata": {},
   "outputs": [],
   "source": [
    "from sklearn.model_selection import train_test_split\n",
    "\n",
    "X_train, X_test, y_train, y_test = train_test_split(X, Y, test_size = 0.2)"
   ]
  },
  {
   "cell_type": "markdown",
   "metadata": {
    "id": "_COM1UCUKVql"
   },
   "source": [
    "# Build Model\n",
    "## This part you can simply build the K-means model(k = 10) and print the predicted labels"
   ]
  },
  {
   "cell_type": "code",
   "execution_count": 26,
   "metadata": {
    "id": "akqGwrC6KVXy"
   },
   "outputs": [
    {
     "name": "stdout",
     "output_type": "stream",
     "text": [
      "[7 3 3 ... 9 3 8]\n"
     ]
    }
   ],
   "source": [
    "#code here\n",
    "model = KMeans(n_clusters = 10)\n",
    "model.fit(X_train, y_train)\n",
    "y_pred = model.predict(X_test)\n",
    "print(model.labels_)"
   ]
  },
  {
   "cell_type": "markdown",
   "metadata": {
    "id": "7YBnhgwMJ9IC"
   },
   "source": [
    "below is the example code for plotting the cluster center"
   ]
  },
  {
   "cell_type": "code",
   "execution_count": 27,
   "metadata": {
    "id": "8u2x2KQptKwW"
   },
   "outputs": [
    {
     "data": {
      "image/png": "[encoded data removed]",
      "text/plain": [
       "<Figure size 864x864 with 10 Axes>"
      ]
     },
     "metadata": {},
     "output_type": "display_data"
    }
   ],
   "source": [
    "fig, ax = plt.subplots(2, 5, figsize = (12, 12))\n",
    "centers = model.cluster_centers_.reshape(10, 28, 28)\n",
    "for axi, center in zip(ax.flat, centers):\n",
    "    axi.set(xticks=[], yticks=[])\n",
    "    axi.imshow(center, interpolation='nearest', cmap=plt.cm.binary)"
   ]
  },
  {
   "cell_type": "markdown",
   "metadata": {
    "id": "O6388A-fKbl5"
   },
   "source": [
    "***There are some example codes for matching labels with clusters***\n",
    "\n",
    "*We can use kmeans.labels_ to print the predicted labels. But these are not real label of each image, since the output of the kmeans.labels_ is just group id for clustering. For example, 6 in kmeans.labels_ has similar features with another 6 in kmeans.labels_.* There is no more meaning from the label.\n",
    "\n",
    "To match it with real label, we can tackle the follow things:\n",
    "\n",
    "\n",
    "*   Combine each images in the same group\n",
    "*   Check Frequency distribution of actual labels (using np.bincount)\n",
    "*   Find the Maximum frequent label (through np.argmax), and set the label."
   ]
  },
  {
   "cell_type": "code",
   "execution_count": 32,
   "metadata": {
    "id": "Z0XnCdh314G3"
   },
   "outputs": [],
   "source": [
    "def infer_cluster_labels(kmeans, actual_labels):\n",
    "    \"\"\"\n",
    "    Associates most probable label with each cluster in KMeans model\n",
    "    returns: dictionary of clusters assigned to each label\n",
    "    \"\"\"\n",
    "\n",
    "    inferred_labels = {}\n",
    "\n",
    "    # Loop through the clusters\n",
    "    for i in range(kmeans.n_clusters):\n",
    "\n",
    "        # find index of points in cluster\n",
    "        labels = []\n",
    "        index = np.where(kmeans.labels_ == i)\n",
    "\n",
    "        # append actual labels for each point in cluster\n",
    "        labels.append(actual_labels[index])\n",
    "\n",
    "        # determine most common label\n",
    "        if len(labels[0]) == 1:\n",
    "            counts = np.bincount(labels[0])\n",
    "        else:\n",
    "            counts = np.bincount(np.squeeze(labels))\n",
    "\n",
    "        # assign the cluster to a value in the inferred_labels dictionary\n",
    "        if np.argmax(counts) in inferred_labels:\n",
    "            # append the new number to the existing array at this slot\n",
    "            inferred_labels[np.argmax(counts)].append(i)\n",
    "        else:\n",
    "            # create a new array in this slot\n",
    "            inferred_labels[np.argmax(counts)] = [i]\n",
    "        \n",
    "    return inferred_labels  \n",
    "\n",
    "def infer_data_labels(X_labels, cluster_labels):\n",
    "    \"\"\"\n",
    "    Determines label for each array, depending on the cluster it has been assigned to.\n",
    "    returns: predicted labels for each array\n",
    "    \"\"\"\n",
    "    \n",
    "    # empty array of len(X)\n",
    "    predicted_labels = np.zeros(len(X_labels)).astype(np.uint8)\n",
    "    \n",
    "    for i, cluster in enumerate(X_labels):\n",
    "        for key, value in cluster_labels.items():\n",
    "            if cluster in value:\n",
    "                predicted_labels[i] = key\n",
    "                \n",
    "    return predicted_labels"
   ]
  },
  {
   "cell_type": "markdown",
   "metadata": {
    "id": "R_gOGvbuSAh9"
   },
   "source": [
    "You can try to print the result via this two functions"
   ]
  },
  {
   "cell_type": "code",
   "execution_count": 40,
   "metadata": {
    "id": "Q-It5-EvSASc"
   },
   "outputs": [
    {
     "name": "stdout",
     "output_type": "stream",
     "text": [
      "[4 1 2 1 7 4 6 6 5 3 1 4 6 3 6 1 0 3 1 3 7 3 3 5 4 1 6 3 2 1 1 0 1 7 8 6 3\n",
      " 7 5 5 4 8 2 0 3 0 5 3 6 3 7 8 2 2 2 3 0 6 5 1 2 4 8 1 5 6 3 1 1 4 1 3 3 4\n",
      " 4 3 7 5 7 1 3 1 4 0 5 6 1 4 5 1 7 7 4 8 4 8 8 4 1 3 2 5 1 1 8 4 1 7 2 1 5\n",
      " 0 1 0 3 7 1 6 0 1 2 4 6 3 1 3 1 0 3 1 5 7 7 6 0 6 7 4 0 0 0 0 3 1 1 7 1 0\n",
      " 6 4 4 8 1 3 4 4 0 1 4 5 6 5 4 6 4 5 1 0 1 3 3 5 7 7 5 1 5 4 5 6 7 5 3 7 1\n",
      " 6 0 2 5 4 2 1 2 0 5 4 3 2 6 8 3 3 1 4 1 4 7 1 1 2 5 0 1 2 7 1 8 4 1 3 8 1\n",
      " 8 5 8 1 0 7 8 4 5 5 2 4 5 8 0 0 3 2 1 8 3 5 2 1 1 0 8 7 8 1 5 3 5 1 4 1 6\n",
      " 6 0 0 0 1 1 1 7 4 1 6 3 5 5 3 1 6 8 1 1 5 4 0 3 0 7 4 2 3 3 4 1 4 4 6 1 1\n",
      " 1 1 5 8 1 4 6 3 4 4 3 8 0 7 0 7 4 5 4 8 5 5 7 5 6 4 3 1 5 1 0 7 1 1 1 1 1\n",
      " 7 5 8 1 3 5 3 1 1 8 6 1 6 4 4 7 1 5 3 3 6 1 2 8 2 4 1 1 2 3 0 0 4 3 8 0 4\n",
      " 4 8 4 1 7 1 8 0 0 1 0 6 5 6 4 1 6 3 8 5 3 5 4 2 6 1 8 3 4 0]\n"
     ]
    }
   ],
   "source": [
    "cluster_labels = infer_cluster_labels(model, y_train.to_numpy(dtype = np.int64))\n",
    "predicted_labels = infer_data_labels(y_pred, cluster_labels)\n",
    "print(predicted_labels)"
   ]
  },
  {
   "cell_type": "markdown",
   "metadata": {
    "id": "kAsNs7MuNHuj"
   },
   "source": [
    "# Evaluating Clustering Algorithm\n",
    "### Since we are using this clustering algorithm for classification, accuracy is ultimately the most important metric;\n",
    "\n",
    "### Furthermore, earlier we made the assumption that K = 10 was the appropriate number of clusters; however, this might not be the case. Let's fit the K-means clustering algorithm with several different values of K, than evaluate the performance using our metrics."
   ]
  },
  {
   "cell_type": "code",
   "execution_count": 41,
   "metadata": {
    "id": "cex6ud4w4hr6"
   },
   "outputs": [],
   "source": [
    "# this is the code for  other metrics out there that can be applied directly to the clusters themselves, regardless of the associated labels. \n",
    "# Two of these metrics that we will use are inertia and homogeneity.\n",
    "# If you want, you can use it when you print the accuracy\n",
    "def calc_metrics(estimator, data, labels):\n",
    "    print('Number of Clusters: {}'.format(estimator.n_clusters))\n",
    "    # Inertia\n",
    "    inertia = estimator.inertia_\n",
    "    print(\"Inertia: {}\".format(inertia))\n",
    "    # Homogeneity Score\n",
    "    homogeneity = homogeneity_score(labels, estimator.labels_)\n",
    "    print(\"Homogeneity score: {}\".format(homogeneity))\n",
    "    return inertia, homogeneity"
   ]
  },
  {
   "cell_type": "code",
   "execution_count": 46,
   "metadata": {
    "id": "G0VQ8aaU4OCv"
   },
   "outputs": [
    {
     "name": "stdout",
     "output_type": "stream",
     "text": [
      "[0.5675, 0.6825, 0.7225, 0.76, 0.835, 0.845]\n"
     ]
    }
   ],
   "source": [
    "clusters = [10, 16, 36, 64, 144, 256]\n",
    "acc_list = []\n",
    "for i in range(len(clusters)):\n",
    "    kmeans = KMeans(n_clusters = clusters[i])\n",
    "    kmeans.fit(X_train, y_train)\n",
    "    pred = kmeans.predict(X_test)\n",
    "    c_labels = infer_cluster_labels(kmeans, y_train.to_numpy(dtype = np.int64))\n",
    "    p_labels = infer_data_labels(pred, c_labels)\n",
    "    acc_list.append(accuracy_score(y_test.to_numpy(dtype = np.int64), p_labels))\n",
    "print(acc_list)"
   ]
  },
  {
   "cell_type": "markdown",
   "metadata": {
    "id": "2lAn8KApQ6py"
   },
   "source": [
    "# Plot the Accuracy Result"
   ]
  },
  {
   "cell_type": "code",
   "execution_count": 47,
   "metadata": {
    "id": "8Z1a-xuzFWrF"
   },
   "outputs": [
    {
     "data": {
      "image/png": "[encoded data removed]",
      "text/plain": [
       "<Figure size 432x288 with 1 Axes>"
      ]
     },
     "metadata": {
      "needs_background": "light"
     },
     "output_type": "display_data"
    }
   ],
   "source": [
    "from matplotlib import pyplot as plt\n",
    "\n",
    "plt.plot(acc_list)\n",
    "plt.show()"
   ]
  },
  {
   "cell_type": "markdown",
   "metadata": {
    "id": "voI7g1V8RHYp"
   },
   "source": [
    "# Predict the Testing Dataset\n",
    "Using the best k from above result and get the accuracy"
   ]
  },
  {
   "cell_type": "code",
   "execution_count": 48,
   "metadata": {
    "id": "W00KcOC4ROrG"
   },
   "outputs": [
    {
     "name": "stdout",
     "output_type": "stream",
     "text": [
      "0.8525\n"
     ]
    }
   ],
   "source": [
    "kmeans = KMeans(n_clusters = 256)\n",
    "kmeans.fit(X_train, y_train)\n",
    "pred = kmeans.predict(X_test)\n",
    "c_labels = infer_cluster_labels(kmeans, y_train.to_numpy(dtype = np.int64))\n",
    "p_labels = infer_data_labels(pred, c_labels)\n",
    "print(accuracy_score(y_test.to_numpy(dtype = np.int64), p_labels))"
   ]
  },
  {
   "cell_type": "code",
   "execution_count": null,
   "metadata": {},
   "outputs": [],
   "source": []
  }
 ],
 "metadata": {
  "colab": {
   "collapsed_sections": [
    "kAsNs7MuNHuj",
    "2lAn8KApQ6py",
    "voI7g1V8RHYp"
   ],
   "name": "Lab 8.ipynb",
   "provenance": []
  },
  "kernelspec": {
   "display_name": "Python 3 (ipykernel)",
   "language": "python",
   "name": "python3"
  },
  "language_info": {
   "codemirror_mode": {
    "name": "ipython",
    "version": 3
   },
   "file_extension": ".py",
   "mimetype": "text/x-python",
   "name": "python",
   "nbconvert_exporter": "python",
   "pygments_lexer": "ipython3",
   "version": "3.9.7"
  }
 },
 "nbformat": 4,
 "nbformat_minor": 1
}
