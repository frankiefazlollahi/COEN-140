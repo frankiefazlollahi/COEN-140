{
 "cells": [
  {
   "cell_type": "markdown",
   "id": "33f166b1",
   "metadata": {},
   "source": [
    "# Lab 2"
   ]
  },
  {
   "cell_type": "markdown",
   "id": "c5a5cae9",
   "metadata": {},
   "source": [
    "## Part 1: Load Data"
   ]
  },
  {
   "cell_type": "markdown",
   "id": "275f0f5c",
   "metadata": {},
   "source": [
    "    --Step 1: Reading data from four text files using NumPy and Pandas"
   ]
  },
  {
   "cell_type": "code",
   "execution_count": null,
   "id": "6c4c2b34",
   "metadata": {},
   "outputs": [],
   "source": [
    "import pandas as pd\n",
    "import numpy as np\n",
    "\n"
   ]
  },
  {
   "cell_type": "markdown",
   "id": "bc2e27c4",
   "metadata": {},
   "source": [
    "    --Step 2: Combine four sub datasets"
   ]
  },
  {
   "cell_type": "code",
   "execution_count": null,
   "id": "32494afb",
   "metadata": {},
   "outputs": [],
   "source": []
  },
  {
   "cell_type": "markdown",
   "id": "4e1e8c69",
   "metadata": {},
   "source": [
    "    --Step 3: Shuffle the new dataset"
   ]
  },
  {
   "cell_type": "code",
   "execution_count": null,
   "id": "2eb174e3",
   "metadata": {},
   "outputs": [],
   "source": []
  },
  {
   "cell_type": "markdown",
   "id": "59b738c3",
   "metadata": {},
   "source": [
    "    --Step 4: Show the shape of the dataset"
   ]
  },
  {
   "cell_type": "code",
   "execution_count": null,
   "id": "ccab8a7d",
   "metadata": {},
   "outputs": [],
   "source": []
  },
  {
   "cell_type": "markdown",
   "id": "2acdcafb",
   "metadata": {},
   "source": [
    "## Part 2: Plot word frequency for Top 30 words"
   ]
  },
  {
   "cell_type": "markdown",
   "id": "3483d22e",
   "metadata": {},
   "source": [
    "    --Step 1: Check missing value"
   ]
  },
  {
   "cell_type": "code",
   "execution_count": null,
   "id": "0d704904",
   "metadata": {},
   "outputs": [],
   "source": []
  },
  {
   "cell_type": "markdown",
   "id": "e65fde42",
   "metadata": {},
   "source": [
    "    --Step 2: Check duplicate value"
   ]
  },
  {
   "cell_type": "code",
   "execution_count": null,
   "id": "9a960a17",
   "metadata": {},
   "outputs": [],
   "source": []
  },
  {
   "cell_type": "markdown",
   "id": "68f0590a",
   "metadata": {},
   "source": [
    "    --Step 3: Create term-document matrix"
   ]
  },
  {
   "cell_type": "code",
   "execution_count": null,
   "id": "b7583e86",
   "metadata": {},
   "outputs": [],
   "source": []
  },
  {
   "cell_type": "markdown",
   "id": "f82b8acd",
   "metadata": {},
   "source": [
    "    --Step 4: Count frequency and sort them"
   ]
  },
  {
   "cell_type": "code",
   "execution_count": null,
   "id": "15c2d992",
   "metadata": {},
   "outputs": [],
   "source": []
  },
  {
   "cell_type": "markdown",
   "id": "29836c05",
   "metadata": {},
   "source": [
    "    --Step 5: Plot the top 30 words frequencies"
   ]
  },
  {
   "cell_type": "code",
   "execution_count": null,
   "id": "20505760",
   "metadata": {},
   "outputs": [],
   "source": []
  }
 ],
 "metadata": {
  "kernelspec": {
   "display_name": "Python 3 (ipykernel)",
   "language": "python",
   "name": "python3"
  },
  "language_info": {
   "codemirror_mode": {
    "name": "ipython",
    "version": 3
   },
   "file_extension": ".py",
   "mimetype": "text/x-python",
   "name": "python",
   "nbconvert_exporter": "python",
   "pygments_lexer": "ipython3",
   "version": "3.9.7"
  }
 },
 "nbformat": 4,
 "nbformat_minor": 5
}
