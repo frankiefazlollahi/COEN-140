{
 "cells": [
  {
   "cell_type": "code",
   "execution_count": 5,
   "id": "65a1c77c",
   "metadata": {},
   "outputs": [
    {
     "name": "stdout",
     "output_type": "stream",
     "text": [
      "training_set shape: (1595, 96)\n",
      "testing_set shape: (399, 96)\n"
     ]
    }
   ],
   "source": [
    "import pandas as pd\n",
    "import numpy as np\n",
    "import math\n",
    "\n",
    "training_set = pd.read_csv('crime-train.txt', delimiter = '\\t')\n",
    "testing_set = pd.read_csv('crime-test.txt', delimiter = '\\t')\n",
    "\n",
    "print(\"training_set shape:\", training_set.shape)\n",
    "print(\"testing_set shape:\", testing_set.shape)"
   ]
  },
  {
   "cell_type": "code",
   "execution_count": 8,
   "id": "8120c91a",
   "metadata": {},
   "outputs": [
    {
     "name": "stdout",
     "output_type": "stream",
     "text": [
      "y_train shape: (1595,)\n",
      "x_train shape: (1595, 95)\n"
     ]
    }
   ],
   "source": [
    "# expected outcomes (1st column) in y_train\n",
    "y_train = training_set['ViolentCrimesPerPop']\n",
    "print(\"y_train shape:\", y_train.shape)\n",
    "\n",
    "# rest for prediction in x_train\n",
    "x_train = training_set.drop('ViolentCrimesPerPop',axis=1)\n",
    "print(\"x_train shape:\", x_train.shape)\n",
    "\n",
    "# convert values from string to float\n",
    "x_train = np.float64(x_train)\n",
    "y_train = np.float64(y_train)\n",
    "\n",
    "# append 1s to the end of x_train\n",
    "ones = np.ones(len(x_train))\n",
    "x_train = np.column_stack((x_train, ones))"
   ]
  },
  {
   "cell_type": "code",
   "execution_count": 11,
   "id": "c13ca052",
   "metadata": {},
   "outputs": [
    {
     "name": "stdout",
     "output_type": "stream",
     "text": [
      "y_test shape: (1595,)\n",
      "x_test shape: (1595, 95)\n"
     ]
    }
   ],
   "source": [
    "y_test = training_set['ViolentCrimesPerPop']\n",
    "print(\"y_test shape:\", y_test.shape)\n",
    "x_test = training_set.drop('ViolentCrimesPerPop',axis=1)\n",
    "print(\"x_test shape:\", x_test.shape)\n",
    "\n",
    "x_test = np.float64(x_test)\n",
    "y_test = np.float64(y_test)\n",
    "\n",
    "ones = np.ones(len(x_test))\n",
    "x_test = np.column_stack((x_test, ones))"
   ]
  },
  {
   "cell_type": "code",
   "execution_count": 12,
   "id": "98af66e5",
   "metadata": {},
   "outputs": [],
   "source": [
    "# function that computs RMSE (Root Mean Square Error) using predicted outcome matrix and the actual outcome matrix\n",
    "def RMSE(prediction, actual):\n",
    "    n = len(prediction)\n",
    "    diff = prediction - actual\n",
    "    total = 0\n",
    "    \n",
    "    for instance in diff:\n",
    "        total += instance ** 2\n",
    "        \n",
    "    total_error = math.sqrt(total/n)\n",
    "    return total_error"
   ]
  },
  {
   "cell_type": "code",
   "execution_count": 23,
   "id": "f797a07f",
   "metadata": {},
   "outputs": [
    {
     "name": "stdout",
     "output_type": "stream",
     "text": [
      "Training Linear Regression RMSE: 0.12768967421762184\n",
      "Testing Linear Regression RMSE: 0.12768967421762184\n"
     ]
    }
   ],
   "source": [
    "# performs linear regression and return list of predicted outcomes that each correspond to their actual values\n",
    "def problem1(samples):\n",
    "    part1 = np.linalg.inv(np.dot(x_train.T, x_train))\n",
    "    part2 = np.dot(x_train.T, y_train)\n",
    "    theta = np.dot(part1, part2)\n",
    "    prediction = []\n",
    "    for xtest in samples:\n",
    "        prediction.append(np.dot(xtest.T, theta))\n",
    "        \n",
    "    return prediction\n",
    "\n",
    "# making predictions with linear regression and calculate RMSE for training & testing data\n",
    "train_linear_prediction = problem1(x_train)\n",
    "# print(train_linear_prediction)\n",
    "train_linear_RMSE = RMSE(train_linear_prediction, y_train)\n",
    "print(\"Training Linear Regression RMSE:\", train_linear_RMSE)\n",
    "\n",
    "test_linear_prediction = problem1(x_test)\n",
    "# print(test_linear_prediction)\n",
    "test_linear_RMSE = RMSE(test_linear_prediction, y_test)\n",
    "print(\"Testing Linear Regression RMSE:\", test_linear_RMSE)"
   ]
  },
  {
   "cell_type": "code",
   "execution_count": 25,
   "id": "cb810589",
   "metadata": {},
   "outputs": [
    {
     "name": "stdout",
     "output_type": "stream",
     "text": [
      "Training Ridge Regression RMSE: 0.1313432042461578\n",
      "Testing Ridge Regression RMSE: 0.1313432042461578\n"
     ]
    }
   ],
   "source": [
    "# performs ridge regression and return list of predicted outcomes that each correspond to their actual values\n",
    "def problem2(samples):\n",
    "    lambda_val = 100\n",
    "    part1 = np.linalg.inv(np.dot(x_train.T, x_train) + (lambda_val * np.identity(len(x_train.T))))\n",
    "    part2 = np.dot(x_train.T, y_train)\n",
    "    theta = np.dot(part1, part2)\n",
    "    prediction = []\n",
    "    for xtest in samples:\n",
    "        prediction.append(np.dot(xtest.T, theta))\n",
    "        \n",
    "    return prediction\n",
    "\n",
    "# make predictions with ridge regression and calculate RMSE for training & testing data\n",
    "train_ridge_prediction = problem2(x_train)\n",
    "# print(train_ridge_prediction)\n",
    "train_ridge_RMSE = RMSE(train_ridge_prediction, y_train)\n",
    "print(\"Training Ridge Regression RMSE:\", train_ridge_RMSE)\n",
    "\n",
    "test_ridge_prediction = problem2(x_test)\n",
    "# print(test_ridge_prediction)\n",
    "test_ridge_RMSE = RMSE(test_ridge_prediction, y_test)\n",
    "print(\"Testing Ridge Regression RMSE:\", test_ridge_RMSE)"
   ]
  },
  {
   "cell_type": "markdown",
   "id": "fc1ac9d6",
   "metadata": {},
   "source": [
    "**RMSE Values**\n",
    "\n",
    "Linear Regression\n",
    "- Training: 0.12768967421762184\n",
    "- Test:     0.12768967421762184\n",
    "\n",
    "Ridge Regression:\n",
    "- Training: 0.1313432042461578\n",
    "- Test:     0.1313432042461578"
   ]
  },
  {
   "cell_type": "code",
   "execution_count": null,
   "id": "5c6f0613",
   "metadata": {},
   "outputs": [],
   "source": []
  }
 ],
 "metadata": {
  "kernelspec": {
   "display_name": "Python 3 (ipykernel)",
   "language": "python",
   "name": "python3"
  },
  "language_info": {
   "codemirror_mode": {
    "name": "ipython",
    "version": 3
   },
   "file_extension": ".py",
   "mimetype": "text/x-python",
   "name": "python",
   "nbconvert_exporter": "python",
   "pygments_lexer": "ipython3",
   "version": "3.9.7"
  }
 },
 "nbformat": 4,
 "nbformat_minor": 5
}
