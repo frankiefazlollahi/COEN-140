{
 "cells": [
  {
   "cell_type": "code",
   "execution_count": 1,
   "id": "03e07964",
   "metadata": {},
   "outputs": [
    {
     "data": {
      "text/plain": [
       "[1, 3, 5]"
      ]
     },
     "execution_count": 1,
     "metadata": {},
     "output_type": "execute_result"
    }
   ],
   "source": [
    "# function that returns odd numbers from 0...n\n",
    "def list_numbers(n):\n",
    "    numbers = []\n",
    "    for i in range (0,n+1):\n",
    "        if i % 2 != 0:\n",
    "            numbers.append(i)\n",
    "    return numbers\n",
    "\n",
    "list_numbers(5)"
   ]
  },
  {
   "cell_type": "code",
   "execution_count": 7,
   "id": "bdf6f577",
   "metadata": {},
   "outputs": [
    {
     "name": "stdout",
     "output_type": "stream",
     "text": [
      "[['Shannon', '22', 'AMTH'], ['Mike', '22', 'COEN'], ['Daniel', '21', 'MECH'], ['Ryan', '19', 'ELEN'], ['Joe', '22', 'BIOE']]\n",
      "[['Daniel', '21', 'MECH'], ['Joe', '22', 'BIOE'], ['Mike', '22', 'COEN'], ['Ryan', '19', 'ELEN'], ['Shannon', '22', 'AMTH']]\n",
      "[['Ryan', '19', 'ELEN'], ['Daniel', '21', 'MECH'], ['Joe', '22', 'BIOE'], ['Mike', '22', 'COEN'], ['Shannon', '22', 'AMTH']]\n"
     ]
    }
   ],
   "source": [
    "import csv\n",
    "\n",
    "file = open(\"students.csv\")\n",
    "# function that extracts rows from csv file and places them in a list\n",
    "def read_file(f):\n",
    "    csvreader = csv.reader(f)\n",
    "    content = []\n",
    "    for row in csvreader:\n",
    "        content.append(row)\n",
    "    return content\n",
    "\n",
    "student_data = read_file(file)\n",
    "file.close()\n",
    "print(student_data)\n",
    "\n",
    "# sort list by first element (default)\n",
    "student_data.sort()\n",
    "print(student_data)\n",
    "\n",
    "# sort list by second element\n",
    "student_data.sort(key = lambda x: x[1])\n",
    "print(student_data)"
   ]
  },
  {
   "cell_type": "code",
   "execution_count": 10,
   "id": "a0a7e5af",
   "metadata": {},
   "outputs": [
    {
     "data": {
      "text/plain": [
       "'c'"
      ]
     },
     "execution_count": 10,
     "metadata": {},
     "output_type": "execute_result"
    }
   ],
   "source": [
    "# function that counts the number of times all characters appear in a string and returns the most frequent character using dictionary\n",
    "def highest_frequency(string):\n",
    "    frequencies = {}\n",
    "    maximum = -1\n",
    "    most_freq = ''\n",
    "    for char in string:\n",
    "        if char in frequencies:\n",
    "            frequencies[char] += 1\n",
    "        else:\n",
    "            frequencies[char] = 1\n",
    "        if(frequencies[char] > maximum):\n",
    "            most_freq = char\n",
    "    return most_freq\n",
    "# test with string of 3 a's 4 b's 5 c's\n",
    "highest_frequency(\"aaabbbbccccc\")"
   ]
  },
  {
   "cell_type": "code",
   "execution_count": 11,
   "id": "c87f65f3",
   "metadata": {},
   "outputs": [
    {
     "name": "stdout",
     "output_type": "stream",
     "text": [
      "24\n"
     ]
    }
   ],
   "source": [
    "import math\n",
    "\n",
    "print(math.factorial(4))"
   ]
  },
  {
   "cell_type": "code",
   "execution_count": 31,
   "id": "21c43520",
   "metadata": {
    "scrolled": true
   },
   "outputs": [
    {
     "name": "stdout",
     "output_type": "stream",
     "text": [
      "For loop method time: 0.05656147003173828\n",
      "[[ 39.  94. 147. ... 174. 123. 117.]\n",
      " [106.  82.  88. ... 162. 110.  80.]\n",
      " [170. 172.  94. ... 144. 127. 157.]\n",
      " ...\n",
      " [105.  42.  26. ... 130. 187. 112.]\n",
      " [ 97.  59. 146. ...  64.  73.  41.]\n",
      " [112. 105. 114. ... 168.  58. 111.]]\n",
      "+ operator method time: 0.0\n",
      "[[ 39  94 147 ... 174 123 117]\n",
      " [106  82  88 ... 162 110  80]\n",
      " [170 172  94 ... 144 127 157]\n",
      " ...\n",
      " [105  42  26 ... 130 187 112]\n",
      " [ 97  59 146 ...  64  73  41]\n",
      " [112 105 114 ... 168  58 111]]\n"
     ]
    }
   ],
   "source": [
    "import numpy as np\n",
    "import time\n",
    "\n",
    "m1 = np.random.randint(100, size=(100,100))\n",
    "m2 = np.random.randint(100, size=(100,100))\n",
    "m3 = np.zeros((100,100))\n",
    "\n",
    "# add 2 100x100 matrices using for loops\n",
    "start = time.time()\n",
    "for i in range(100):\n",
    "    for j in range(100):\n",
    "        m3[i][j] = m1[i][j] + m2[i][j]\n",
    "end = time.time()\n",
    "print(\"For loop method time: \" + str(end - start))\n",
    "print(m3)\n",
    "\n",
    "# add 2 100x100 matrices using + operator\n",
    "s2 = time.time()\n",
    "m4 = m1 + m2\n",
    "e2 = time.time()\n",
    "print(\"+ operator method time: \" + str(e2 - s2))\n",
    "print(m4)"
   ]
  },
  {
   "cell_type": "code",
   "execution_count": 42,
   "id": "57e249a9",
   "metadata": {},
   "outputs": [
    {
     "name": "stdout",
     "output_type": "stream",
     "text": [
      "Average time of method 1: 0.009643672704696656\n",
      "Average time of method 2: 1.598501205444336e-05\n",
      "Standard deviation of method 1: 0.0016473298872392186\n",
      "Standard deviation of method 2: 0.00012536267261173872\n"
     ]
    },
    {
     "data": {
      "text/plain": [
       "<function matplotlib.pyplot.show(close=None, block=None)>"
      ]
     },
     "execution_count": 42,
     "metadata": {},
     "output_type": "execute_result"
    },
    {
     "data": {
      "image/png": "[encoded data removed]",
      "text/plain": [
       "<Figure size 432x288 with 1 Axes>"
      ]
     },
     "metadata": {
      "needs_background": "light"
     },
     "output_type": "display_data"
    }
   ],
   "source": [
    "import numpy as np\n",
    "import time\n",
    "import statistics\n",
    "import matplotlib.pyplot as plt\n",
    "\n",
    "m1 = np.random.randint(1000, size=(100,100))\n",
    "m2 = np.random.randint(1000, size=(100,100))\n",
    "m3 = np.zeros((100,100))\n",
    "\n",
    "# add 2 100x100 matrices using for loops\n",
    "def func1():\n",
    "    for i in range(100):\n",
    "        for j in range(100):\n",
    "            m3[i][j] = m1[i][j] + m2[i][j]\n",
    "\n",
    "# add 2 100x100 matrices using + operator\n",
    "def func2():\n",
    "    m4 = m1 + m2\n",
    "\n",
    "times1 = []\n",
    "times2 = []\n",
    "for i in range(1000):\n",
    "    start = time.time()\n",
    "    func1()\n",
    "    end = time.time()\n",
    "    times1.append(end-start)\n",
    "    \n",
    "for i in range(1000):\n",
    "    start = time.time()\n",
    "    func2()\n",
    "    end = time.time()\n",
    "    times2.append(end-start)\n",
    "\n",
    "avg1 = sum(times1)/len(times1)\n",
    "print(\"Average time of method 1: \" + str(avg1))\n",
    "avg2 = sum(times2)/len(times2)\n",
    "print(\"Average time of method 2: \" + str(avg2))\n",
    "\n",
    "sd1 = statistics.pstdev(times1)\n",
    "print(\"Standard deviation of method 1: \" + str(sd1))\n",
    "sd2 = statistics.pstdev(times2)\n",
    "print(\"Standard deviation of method 2: \" + str(sd2))\n",
    "\n",
    "plt.hist(times1, 100)\n",
    "plt.show"
   ]
  },
  {
   "cell_type": "code",
   "execution_count": 49,
   "id": "2d17c6b3",
   "metadata": {},
   "outputs": [
    {
     "name": "stdout",
     "output_type": "stream",
     "text": [
      "Average time of method 1: 0.013168412923812866\n",
      "Average time of method 2: 7.574319839477539e-06\n",
      "Standard deviation of method 1: 0.007775291695107414\n",
      "Standard deviation of method 2: 0.00014483831853484057\n"
     ]
    },
    {
     "data": {
      "text/plain": [
       "<function matplotlib.pyplot.show(close=None, block=None)>"
      ]
     },
     "execution_count": 49,
     "metadata": {},
     "output_type": "execute_result"
    },
    {
     "data": {
      "image/png": "[encoded data removed]",
      "text/plain": [
       "<Figure size 432x288 with 1 Axes>"
      ]
     },
     "metadata": {
      "needs_background": "light"
     },
     "output_type": "display_data"
    }
   ],
   "source": [
    "import numpy as np\n",
    "import time\n",
    "import statistics\n",
    "import matplotlib.pyplot as plt\n",
    "\n",
    "m1 = np.random.randint(1000, size=(100,100))\n",
    "m2 = np.random.randint(1000, size=(100,100))\n",
    "m3 = np.zeros((100,100))\n",
    "\n",
    "# add 2 100x100 matrices using for loops\n",
    "def func1():\n",
    "    for i in range(100):\n",
    "        for j in range(100):\n",
    "            m3[i][j] = m1[i][j] + m2[i][j]\n",
    "\n",
    "# add 2 100x100 matrices using + operator\n",
    "def func2():\n",
    "    m4 = m1 + m2\n",
    "\n",
    "times1 = []\n",
    "times2 = []\n",
    "for i in range(1000):\n",
    "    start = time.time()\n",
    "    func1()\n",
    "    end = time.time()\n",
    "    times1.append(end-start)\n",
    "    \n",
    "for i in range(1000):\n",
    "    start = time.time()\n",
    "    func2()\n",
    "    end = time.time()\n",
    "    times2.append(end-start)\n",
    "\n",
    "avg1 = sum(times1)/len(times1)\n",
    "print(\"Average time of method 1: \" + str(avg1))\n",
    "avg2 = sum(times2)/len(times2)\n",
    "print(\"Average time of method 2: \" + str(avg2))\n",
    "\n",
    "sd1 = statistics.pstdev(times1)\n",
    "print(\"Standard deviation of method 1: \" + str(sd1))\n",
    "sd2 = statistics.pstdev(times2)\n",
    "print(\"Standard deviation of method 2: \" + str(sd2))\n",
    "\n",
    "plt.hist(times2, bins='auto')\n",
    "plt.show"
   ]
  },
  {
   "cell_type": "code",
   "execution_count": 48,
   "id": "446f44de",
   "metadata": {},
   "outputs": [
    {
     "name": "stdout",
     "output_type": "stream",
     "text": [
      "Rolling 4 dice...\n",
      "The numbers you rolled were: \n",
      "3\n",
      "4\n",
      "6\n",
      "6\n"
     ]
    }
   ],
   "source": [
    "import random\n",
    "# function that simulates rolling n dice (1 - 6)\n",
    "def roll_dice(n):\n",
    "    rolls = []\n",
    "    for i in range(n):\n",
    "        # getting a random int from 1 - 6 and appending it to rolls list\n",
    "        rolls.append(random.randint(1,6))\n",
    "    return rolls\n",
    "print(\"Rolling 4 dice...\")\n",
    "rolls = roll_dice(4)\n",
    "print(\"The numbers you rolled were: \")\n",
    "for r in rolls:\n",
    "    print(r)"
   ]
  },
  {
   "cell_type": "code",
   "execution_count": null,
   "id": "a4562a46",
   "metadata": {},
   "outputs": [],
   "source": []
  },
  {
   "cell_type": "code",
   "execution_count": null,
   "id": "79feea9b",
   "metadata": {},
   "outputs": [],
   "source": []
  }
 ],
 "metadata": {
  "kernelspec": {
   "display_name": "Python 3 (ipykernel)",
   "language": "python",
   "name": "python3"
  },
  "language_info": {
   "codemirror_mode": {
    "name": "ipython",
    "version": 3
   },
   "file_extension": ".py",
   "mimetype": "text/x-python",
   "name": "python",
   "nbconvert_exporter": "python",
   "pygments_lexer": "ipython3",
   "version": "3.9.7"
  }
 },
 "nbformat": 4,
 "nbformat_minor": 5
}
